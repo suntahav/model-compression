{
 "cells": [
  {
   "cell_type": "code",
   "execution_count": 1,
   "id": "315e2069",
   "metadata": {},
   "outputs": [
    {
     "data": {
      "text/plain": [
       "<torch._C.Generator at 0x2210a6657b0>"
      ]
     },
     "execution_count": 1,
     "metadata": {},
     "output_type": "execute_result"
    }
   ],
   "source": [
    "import torch                                        # root package\n",
    "from torch.utils.data import Dataset, DataLoader    # dataset representation and loading\n",
    "import torch.nn as nn                     # neural networks\n",
    "import torch.nn.functional as F           # layers, activations and more\n",
    "import torch.optim as optim \n",
    "from torchvision import datasets\n",
    "from torchvision.transforms import ToTensor\n",
    "\n",
    "torch.manual_seed(0)"
   ]
  },
  {
   "cell_type": "code",
   "execution_count": 2,
   "id": "4492e634",
   "metadata": {},
   "outputs": [],
   "source": [
    "device = torch.device(\"cuda:0\" if torch.cuda.is_available() else \"cpu\")"
   ]
  },
  {
   "cell_type": "code",
   "execution_count": 3,
   "id": "88af1cf5",
   "metadata": {},
   "outputs": [],
   "source": [
    "train = datasets.MNIST(root='./data/',train=True, download=True, transform=ToTensor())\n",
    "test = datasets.MNIST(root='./data/',train=False, download=True, transform=ToTensor())"
   ]
  },
  {
   "cell_type": "code",
   "execution_count": 4,
   "id": "1cf0605a",
   "metadata": {},
   "outputs": [],
   "source": [
    "bs = 64\n",
    "train_loader = DataLoader(dataset=train, batch_size=bs, shuffle=True, num_workers=1, pin_memory=True)\n",
    "test_loader = DataLoader(dataset=test, batch_size=bs, shuffle=True, num_workers=1, pin_memory=True)"
   ]
  },
  {
   "cell_type": "code",
   "execution_count": 5,
   "id": "cc41cf19",
   "metadata": {},
   "outputs": [],
   "source": [
    "class Net(nn.Module):\n",
    "    def __init__(self, d):\n",
    "        super().__init__()\n",
    "        self.layers = nn.Sequential(\n",
    "            nn.Linear(784, d),\n",
    "            nn.Dropout(0.3),\n",
    "            nn.ReLU(),\n",
    "            nn.Linear(d, d),\n",
    "            nn.Dropout(0.3),\n",
    "            nn.ReLU(),\n",
    "            nn.Linear(d, 10)\n",
    "        )\n",
    "    def forward(self, x):\n",
    "        return self.layers(x)"
   ]
  },
  {
   "cell_type": "code",
   "execution_count": 6,
   "id": "ac246691",
   "metadata": {},
   "outputs": [
    {
     "name": "stdout",
     "output_type": "stream",
     "text": [
      "Net(\n",
      "  (layers): Sequential(\n",
      "    (0): Linear(in_features=784, out_features=1200, bias=True)\n",
      "    (1): Dropout(p=0.3, inplace=False)\n",
      "    (2): ReLU()\n",
      "    (3): Linear(in_features=1200, out_features=1200, bias=True)\n",
      "    (4): Dropout(p=0.3, inplace=False)\n",
      "    (5): ReLU()\n",
      "    (6): Linear(in_features=1200, out_features=10, bias=True)\n",
      "  )\n",
      ")\n"
     ]
    }
   ],
   "source": [
    "teacher_model = Net(1200)\n",
    "teacher_model = teacher_model.to(device)\n",
    "print(teacher_model)"
   ]
  },
  {
   "cell_type": "code",
   "execution_count": 7,
   "id": "ae0df571",
   "metadata": {},
   "outputs": [],
   "source": [
    "optimizer = optim.Adam(params=teacher_model.parameters(), lr=0.001)\n",
    "loss = torch.nn.CrossEntropyLoss()"
   ]
  },
  {
   "cell_type": "code",
   "execution_count": 8,
   "id": "59f8e611",
   "metadata": {},
   "outputs": [],
   "source": [
    "def train(model, epochs, optimizer, loss):\n",
    "    for epoch in range(epochs):\n",
    "        model.train()\n",
    "        total_loss = []\n",
    "        accurate = 0\n",
    "        total = 0\n",
    "        for x,y in train_loader:\n",
    "            x = x.to(device)\n",
    "#             x = x.view(-1, 784)\n",
    "            y = y.to(device)\n",
    "            total += x.shape[0]\n",
    "            y_hat = model(x.view(-1,784))\n",
    "            _, pred_label = torch.max(y_hat.data, 1)\n",
    "#             print(y.shape)\n",
    "            accurate += torch.sum(pred_label==y)\n",
    "            train_loss = loss(y_hat, y)\n",
    "            total_loss.append(train_loss)\n",
    "            optimizer.zero_grad()\n",
    "            train_loss.backward()\n",
    "            optimizer.step()\n",
    "        if epoch%10 == 0:\n",
    "            print(\"Epoch : {}\".format(epoch))\n",
    "            print(\"Loss on train set : {} and Accuracy : {}\".format((sum(total_loss)/len(train_loader)).item(), (accurate/total).item()))\n",
    "            with torch.no_grad():\n",
    "                model.eval()\n",
    "                accurate = 0\n",
    "                total = 0\n",
    "                total_loss = []\n",
    "                for x,y in test_loader:\n",
    "                    x = x.to(device)\n",
    "                    x = x.view(-1,784)                                               \n",
    "                    y = y.to(device)\n",
    "                    total += x.shape[0]\n",
    "                    y_test = model(x)\n",
    "                    _, pred_label = torch.max(y_test.data, 1)\n",
    "#                     print(pred_label)\n",
    "                    accurate += torch.sum(pred_label==y)\n",
    "                    total_loss.append(loss(y_test,y))\n",
    "                print(\"Loss on test set : {} and Accuracy : {}\".format((sum(total_loss)/len(test_loader)).item(), (accurate/total).item()))\n",
    "                print(\"-----------------------------------------------------------------------------------\")"
   ]
  },
  {
   "cell_type": "code",
   "execution_count": 9,
   "id": "d517e7a1",
   "metadata": {},
   "outputs": [
    {
     "name": "stdout",
     "output_type": "stream",
     "text": [
      "Epoch : 0\n",
      "Loss on train set : 0.22282832860946655 and Accuracy : 0.9310833215713501\n",
      "Loss on test set : 0.11105051636695862 and Accuracy : 0.9652999639511108\n",
      "-----------------------------------------------------------------------------------\n",
      "Epoch : 10\n",
      "Loss on train set : 0.03577291592955589 and Accuracy : 0.9890000224113464\n",
      "Loss on test set : 0.08173023164272308 and Accuracy : 0.9824000000953674\n",
      "-----------------------------------------------------------------------------------\n",
      "Epoch : 20\n",
      "Loss on train set : 0.03412889316678047 and Accuracy : 0.9917166829109192\n",
      "Loss on test set : 0.10353590548038483 and Accuracy : 0.9802999496459961\n",
      "-----------------------------------------------------------------------------------\n",
      "Epoch : 30\n",
      "Loss on train set : 0.023396972566843033 and Accuracy : 0.9942833185195923\n",
      "Loss on test set : 0.10780889540910721 and Accuracy : 0.9861999750137329\n",
      "-----------------------------------------------------------------------------------\n",
      "Epoch : 40\n",
      "Loss on train set : 0.032053571194410324 and Accuracy : 0.9942499995231628\n",
      "Loss on test set : 0.12401414662599564 and Accuracy : 0.9848999977111816\n",
      "-----------------------------------------------------------------------------------\n"
     ]
    }
   ],
   "source": [
    "train(teacher_model,41, optimizer, loss)"
   ]
  },
  {
   "cell_type": "code",
   "execution_count": 10,
   "id": "194252f5",
   "metadata": {},
   "outputs": [],
   "source": [
    "softmax = nn.Softmax(dim=1)\n",
    "mseLoss = nn.MSELoss()\n",
    "def distillation_loss(yhat, y, temperature):\n",
    "    smooth_smax_pred = softmax(yhat / temperature)\n",
    "    smooth_target = softmax(y / temperature)\n",
    "    #Original loss in paper\n",
    "    # loss = 0.5 * torch.pow(smooth_smax_pred - smooth_target, 2)\n",
    "    return mseLoss(smooth_smax_pred, smooth_target)"
   ]
  },
  {
   "cell_type": "code",
   "execution_count": 11,
   "id": "5037ee1a",
   "metadata": {},
   "outputs": [],
   "source": [
    "def train_student(teacher, model, epochs, temp, optimizer, loss):\n",
    "    \"\"\"\n",
    "    temp: temperature for loss calculation\n",
    "    teacher: teacher model\n",
    "    epoch: total iterations over dataset\n",
    "    model: the student model to be trained\n",
    "    \"\"\"\n",
    "    for epoch in range(epochs):\n",
    "        teacher.eval()\n",
    "        model.train()\n",
    "        total_loss = []\n",
    "        accurate = 0\n",
    "        total = 0\n",
    "        for x,y in train_loader:\n",
    "            x = x.to(device)\n",
    "            y = y.to(device)\n",
    "            target = teacher(x.view(-1,784)) #Get the target from the cumbersome model\n",
    "            total += x.shape[0]\n",
    "            y_hat = model(x.view(-1,784))\n",
    "            _, pred_label = torch.max(y_hat.data, 1)\n",
    "            accurate += torch.sum(pred_label==y)\n",
    "            train_loss = distillation_loss(y_hat, target, temp) \n",
    "            total_loss.append(train_loss)\n",
    "            optimizer.zero_grad()\n",
    "            train_loss.backward()\n",
    "            optimizer.step()\n",
    "        if epoch%5 == 0:\n",
    "            print(\"Loss on train set : {} and Accuracy : {}\".format((sum(total_loss)/len(train_loader)).item(), (accurate/total).item()))\n",
    "            with torch.no_grad():\n",
    "                model.eval()\n",
    "                accurate = 0\n",
    "                total = 0\n",
    "                for x,y in test_loader:\n",
    "                    x = x.to(device)\n",
    "                    x = x.view(-1,784)                                               \n",
    "                    y = y.to(device)\n",
    "                    total += x.shape[0]\n",
    "                    y_test = model(x)\n",
    "                    _, pred_label = torch.max(y_test.data, 1)\n",
    "                    accurate += torch.sum(pred_label==y)\n",
    "                print(\"Accuracy on Test set : {}\".format( (accurate/total).item()))"
   ]
  },
  {
   "cell_type": "code",
   "execution_count": 36,
   "id": "45373245",
   "metadata": {},
   "outputs": [
    {
     "name": "stdout",
     "output_type": "stream",
     "text": [
      "Epoch : 0\n",
      "Loss on train set : 0.4543033242225647 and Accuracy : 0.8642666935920715\n",
      "Loss on test set : 0.17455440759658813 and Accuracy : 0.9465999603271484\n",
      "-----------------------------------------------------------------------------------\n",
      "Epoch : 10\n",
      "Loss on train set : 0.09133455157279968 and Accuracy : 0.9708666801452637\n",
      "Loss on test set : 0.08549182116985321 and Accuracy : 0.9753999710083008\n",
      "-----------------------------------------------------------------------------------\n"
     ]
    }
   ],
   "source": [
    "#training benchmark\n",
    "benchmark_student = Net(100)\n",
    "benchmark_student = benchmark_student.to(device)\n",
    "optimizer_bench = optim.Adam(params=benchmark_student.parameters(), lr=0.001)\n",
    "loss = torch.nn.CrossEntropyLoss()\n",
    "train(benchmark_student, 11, optimizer_bench, loss)"
   ]
  },
  {
   "cell_type": "code",
   "execution_count": 40,
   "id": "7011bb35",
   "metadata": {},
   "outputs": [
    {
     "name": "stdout",
     "output_type": "stream",
     "text": [
      "Loss on train set : 0.02274789847433567 and Accuracy : 0.8457333445549011\n",
      "Accuracy on Test set : 0.934499979019165\n",
      "Loss on train set : 0.006044209934771061 and Accuracy : 0.9581166505813599\n",
      "Accuracy on Test set : 0.9686999917030334\n",
      "Loss on train set : 0.004588209558278322 and Accuracy : 0.9681333303451538\n",
      "Accuracy on Test set : 0.9714999794960022\n"
     ]
    }
   ],
   "source": [
    "student_model = Net(100)\n",
    "student_model = student_model.to(device)\n",
    "optimizer_student = optim.Adam(params=student_model.parameters(), lr=0.001)\n",
    "loss = distillation_loss\n",
    "train_student(teacher=teacher_model, model=student_model, epochs=11, temp=2.5, optimizer=optimizer_student, loss=loss)"
   ]
  },
  {
   "cell_type": "code",
   "execution_count": null,
   "id": "7ecc2d95",
   "metadata": {},
   "outputs": [],
   "source": [
    "# 20 layer net can "
   ]
  }
 ],
 "metadata": {
  "kernelspec": {
   "display_name": "Python 3",
   "language": "python",
   "name": "python3"
  },
  "language_info": {
   "codemirror_mode": {
    "name": "ipython",
    "version": 3
   },
   "file_extension": ".py",
   "mimetype": "text/x-python",
   "name": "python",
   "nbconvert_exporter": "python",
   "pygments_lexer": "ipython3",
   "version": "3.8.8"
  }
 },
 "nbformat": 4,
 "nbformat_minor": 5
}
