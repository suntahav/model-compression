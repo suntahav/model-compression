{
 "cells": [
  {
   "cell_type": "code",
   "execution_count": 1,
   "id": "315e2069",
   "metadata": {},
   "outputs": [],
   "source": [
    "import torch                                        # root package\n",
    "from torch.utils.data import Dataset, DataLoader    # dataset representation and loading\n",
    "import torch.nn as nn                     # neural networks\n",
    "import torch.nn.functional as F           # layers, activations and more\n",
    "import torch.optim as optim \n",
    "from torchvision import datasets\n",
    "from torchvision.transforms import ToTensor"
   ]
  },
  {
   "cell_type": "code",
   "execution_count": 2,
   "id": "4492e634",
   "metadata": {},
   "outputs": [],
   "source": [
    "device = torch.device(\"cuda:0\" if torch.cuda.is_available() else \"cpu\")"
   ]
  },
  {
   "cell_type": "code",
   "execution_count": 23,
   "id": "88af1cf5",
   "metadata": {},
   "outputs": [],
   "source": [
    "train = datasets.MNIST(root='./data/',train=True, download=True, transform=ToTensor())\n",
    "test = datasets.MNIST(root='./data/',train=False, download=True, transform=ToTensor())"
   ]
  },
  {
   "cell_type": "code",
   "execution_count": 24,
   "id": "1cf0605a",
   "metadata": {},
   "outputs": [],
   "source": [
    "bs = 64\n",
    "train_loader = DataLoader(dataset=train, batch_size=bs, shuffle=True, num_workers=1, pin_memory=True)\n",
    "test_loader = DataLoader(dataset=test, batch_size=bs, shuffle=True, num_workers=1, pin_memory=True)"
   ]
  },
  {
   "cell_type": "code",
   "execution_count": 32,
   "id": "cc41cf19",
   "metadata": {},
   "outputs": [],
   "source": [
    "class Teacher(nn.Module):\n",
    "    def __init__(self):\n",
    "        super(Teacher, self).__init__()\n",
    "        self.layers = nn.Sequential(\n",
    "            nn.Linear(784, 1200),\n",
    "            nn.ReLU(),\n",
    "            nn.Linear(1200, 1200),\n",
    "            nn.ReLU(),\n",
    "            nn.Linear(1200, 10)\n",
    "        )\n",
    "    def forward(self, x):\n",
    "        return self.layers(x)"
   ]
  },
  {
   "cell_type": "code",
   "execution_count": 33,
   "id": "ac246691",
   "metadata": {},
   "outputs": [],
   "source": [
    "teacher_model = Teacher()\n",
    "teacher_model = teacher_model.to(device)"
   ]
  },
  {
   "cell_type": "code",
   "execution_count": 34,
   "id": "ae0df571",
   "metadata": {},
   "outputs": [],
   "source": [
    "optimizer = optim.Adam(params=teacher_model.parameters(), lr=0.1)\n",
    "loss = torch.nn.CrossEntropyLoss()"
   ]
  },
  {
   "cell_type": "code",
   "execution_count": 35,
   "id": "59f8e611",
   "metadata": {},
   "outputs": [],
   "source": [
    "def train(model, epochs):\n",
    "    for epoch in range(epochs):\n",
    "        model.train()\n",
    "        total_loss = []\n",
    "        accurate = 0\n",
    "        total = 0\n",
    "        for x,y in train_loader:\n",
    "#             x = x.to(device)\n",
    "#             x = x.view(-1, 784)\n",
    "#             y = y.to(device)\n",
    "            total += x.shape[0]\n",
    "            y_hat = model(x.view(-1,784))\n",
    "            _, pred_label = torch.max(y_hat.data, 1)\n",
    "#             print(y.shape)\n",
    "            accurate += torch.sum(pred_label==y)\n",
    "            train_loss = loss(y_hat, y)\n",
    "            total_loss.append(train_loss)\n",
    "            optimizer.zero_grad()\n",
    "            train_loss.backward()\n",
    "            optimizer.step()\n",
    "        if epoch%5 == 0:\n",
    "            print(\"Loss on train set : {} and Accuracy : {}\".format((sum(total_loss)/len(train_loader)).item(), (accurate/total).item()))\n",
    "            with torch.no_grad():\n",
    "                model.eval()\n",
    "                accurate = 0\n",
    "                total = 0\n",
    "                total_loss = []\n",
    "                for x,y in test_loader:\n",
    "#                     x = x.to(device)\n",
    "                    x = x.view(-1,784)                                               \n",
    "#                     y = y.to(device)\n",
    "                    total += x.shape[0]\n",
    "                    y_test = model(x)\n",
    "                    _, pred_label = torch.max(y_test.data, 1)\n",
    "#                     print(pred_label)\n",
    "                    accurate += torch.sum(torch.argmax(y_test)==y)\n",
    "                    total_loss.append(loss(y_test,y))\n",
    "                print(\"Loss on test set : {} and Accuracy : {}\".format((sum(total_loss)/len(test_loader)).item(), (accurate/total).item()))"
   ]
  },
  {
   "cell_type": "code",
   "execution_count": 36,
   "id": "d517e7a1",
   "metadata": {},
   "outputs": [
    {
     "name": "stdout",
     "output_type": "stream",
     "text": [
      "Loss on train set : 10.845402717590332 and Accuracy : 0.18386666476726532\n",
      "Loss on test set : 2.289581060409546 and Accuracy : 0.003499999875202775\n",
      "Loss on train set : 2.3105294704437256 and Accuracy : 0.1039000004529953\n",
      "Loss on test set : 2.306274652481079 and Accuracy : 0.11019999533891678\n",
      "Loss on train set : 2.310647964477539 and Accuracy : 0.10421666502952576\n",
      "Loss on test set : 2.310048818588257 and Accuracy : 0.10979999601840973\n"
     ]
    }
   ],
   "source": [
    "train(teacher_model,11)"
   ]
  },
  {
   "cell_type": "code",
   "execution_count": null,
   "id": "abebb1e8",
   "metadata": {},
   "outputs": [],
   "source": []
  }
 ],
 "metadata": {
  "kernelspec": {
   "display_name": "Python 3",
   "language": "python",
   "name": "python3"
  },
  "language_info": {
   "codemirror_mode": {
    "name": "ipython",
    "version": 3
   },
   "file_extension": ".py",
   "mimetype": "text/x-python",
   "name": "python",
   "nbconvert_exporter": "python",
   "pygments_lexer": "ipython3",
   "version": "3.8.8"
  }
 },
 "nbformat": 4,
 "nbformat_minor": 5
}
